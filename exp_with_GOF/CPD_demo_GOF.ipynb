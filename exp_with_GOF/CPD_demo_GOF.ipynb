{
 "cells": [
  {
   "cell_type": "markdown",
   "metadata": {
    "id": "ysJfA0UjDGWb"
   },
   "source": [
    "Simulation study for degree distribution"
   ]
  },
  {
   "cell_type": "code",
   "execution_count": null,
   "metadata": {
    "colab": {
     "background_save": true,
     "base_uri": "https://localhost:8080/"
    },
    "id": "z-tvyZ1USR8J",
    "outputId": "56de22b9-c0c4-4f6d-cdb9-230ae6eee15f"
   },
   "outputs": [],
   "source": [
    "# STERGM n100\n",
    "!python cpd_latent_sim_deg.py --use_data STERGM --num_node 100"
   ]
  },
  {
   "cell_type": "code",
   "execution_count": null,
   "metadata": {
    "colab": {
     "background_save": true,
     "base_uri": "https://localhost:8080/"
    },
    "id": "zgLGBFG3teKy"
   },
   "outputs": [],
   "source": [
    "# SBM n100\n",
    "!python cpd_latent_sim_deg.py --use_data SBM --num_node 100"
   ]
  },
  {
   "cell_type": "code",
   "execution_count": null,
   "metadata": {
    "colab": {
     "background_save": true
    },
    "id": "W_8IeMwdzlck"
   },
   "outputs": [],
   "source": [
    "# NN n100\n",
    "!python cpd_latent_sim_deg.py --use_data NN --num_node 100"
   ]
  }
 ],
 "metadata": {
  "accelerator": "GPU",
  "colab": {
   "authorship_tag": "ABX9TyOiRPTH8saOzW9Imjf1mH7q",
   "gpuType": "T4",
   "machine_shape": "hm",
   "mount_file_id": "13JuP0SdGEEK7Odm_cCV7z8OliUuXT0Xg",
   "name": "",
   "version": ""
  },
  "kernelspec": {
   "display_name": "Python 3",
   "name": "python3"
  },
  "language_info": {
   "name": "python"
  }
 },
 "nbformat": 4,
 "nbformat_minor": 0
}
